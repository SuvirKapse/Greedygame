{
  "nbformat": 4,
  "nbformat_minor": 0,
  "metadata": {
    "colab": {
      "provenance": [],
      "collapsed_sections": [
        "QqZhrQklzCIS",
        "JXtbF2B00Rcn"
      ],
      "authorship_tag": "ABX9TyOt37t7tb7wF56+jrclmo+B",
      "include_colab_link": true
    },
    "kernelspec": {
      "name": "python3",
      "display_name": "Python 3"
    },
    "language_info": {
      "name": "python"
    }
  },
  "cells": [
    {
      "cell_type": "markdown",
      "metadata": {
        "id": "view-in-github",
        "colab_type": "text"
      },
      "source": [
        "<a href=\"https://colab.research.google.com/github/SuvirKapse/Greedygame/blob/main/suvir_greedy_game.ipynb\" target=\"_parent\"><img src=\"https://colab.research.google.com/assets/colab-badge.svg\" alt=\"Open In Colab\"/></a>"
      ]
    },
    {
      "cell_type": "code",
      "execution_count": null,
      "metadata": {
        "id": "9Nw8xHBkqZBr"
      },
      "outputs": [],
      "source": [
        "\n",
        "import pandas as pd\n",
        "import numpy as np"
      ]
    },
    {
      "cell_type": "code",
      "source": [
        "from google.colab import drive\n",
        "drive.mount('/content/drive')\n",
        "\n",
        "file_path ='/content/drive/MyDrive/Greedy/Copy of Q2_rewards details.csv'"
      ],
      "metadata": {
        "colab": {
          "base_uri": "https://localhost:8080/"
        },
        "id": "eogjqt4AsEC_",
        "outputId": "47235dde-d09f-4e53-a7c8-4156adb879b9"
      },
      "execution_count": null,
      "outputs": [
        {
          "output_type": "stream",
          "name": "stdout",
          "text": [
            "Mounted at /content/drive\n"
          ]
        }
      ]
    },
    {
      "cell_type": "code",
      "source": [
        "file_path1='/content/drive/MyDrive/Greedy/Copy of Q2_User offer completion data.csv'\n",
        "file_path2='/content/drive/MyDrive/Greedy/Copy of Q2_User offer data.csv'\n",
        "file_path3='/content/drive/MyDrive/Greedy/Copy of Q2_users signup.csv'"
      ],
      "metadata": {
        "id": "FjriNa75s3PP"
      },
      "execution_count": null,
      "outputs": []
    },
    {
      "cell_type": "code",
      "source": [
        "rewards=pd.read_csv(file_path)\n",
        "user_offer_completion=pd.read_csv(file_path1)\n",
        "user_offer=pd.read_csv(file_path2)\n",
        "user_signup=pd.read_csv(file_path3)"
      ],
      "metadata": {
        "id": "PL0w8x02qxvO"
      },
      "execution_count": null,
      "outputs": []
    },
    {
      "cell_type": "code",
      "source": [
        "user_signup.head()"
      ],
      "metadata": {
        "colab": {
          "base_uri": "https://localhost:8080/",
          "height": 206
        },
        "id": "S6tlv8cAx0NL",
        "outputId": "cc25f5e1-1b64-4ee2-d483-afade362aa4b"
      },
      "execution_count": null,
      "outputs": [
        {
          "output_type": "execute_result",
          "data": {
            "text/plain": [
              "                                user_id app_id signed_up_on last_login_date\n",
              "0  c925ccad-98e7-4500-833e-a49aa066aeec  sikka   2022-11-26      2022-11-26\n",
              "1  7cdb9d2c-9644-42d0-8d44-50fa57747523  sikka   2022-11-26      2022-11-26\n",
              "2  e2dfd115-a8b0-4e3e-96e5-9b11e5f316f1  sikka   2022-11-26      2022-11-28\n",
              "3  f55000a3-dd68-44d8-b461-41c85d963ce2  sikka   2022-11-26      2022-11-27\n",
              "4  a6d5ed73-5c1c-4666-a592-f93ab4489cf5  sikka   2022-11-26      2022-11-26"
            ],
            "text/html": [
              "\n",
              "  <div id=\"df-be0a1e12-8ada-46f7-aacd-febe3fe52d72\">\n",
              "    <div class=\"colab-df-container\">\n",
              "      <div>\n",
              "<style scoped>\n",
              "    .dataframe tbody tr th:only-of-type {\n",
              "        vertical-align: middle;\n",
              "    }\n",
              "\n",
              "    .dataframe tbody tr th {\n",
              "        vertical-align: top;\n",
              "    }\n",
              "\n",
              "    .dataframe thead th {\n",
              "        text-align: right;\n",
              "    }\n",
              "</style>\n",
              "<table border=\"1\" class=\"dataframe\">\n",
              "  <thead>\n",
              "    <tr style=\"text-align: right;\">\n",
              "      <th></th>\n",
              "      <th>user_id</th>\n",
              "      <th>app_id</th>\n",
              "      <th>signed_up_on</th>\n",
              "      <th>last_login_date</th>\n",
              "    </tr>\n",
              "  </thead>\n",
              "  <tbody>\n",
              "    <tr>\n",
              "      <th>0</th>\n",
              "      <td>c925ccad-98e7-4500-833e-a49aa066aeec</td>\n",
              "      <td>sikka</td>\n",
              "      <td>2022-11-26</td>\n",
              "      <td>2022-11-26</td>\n",
              "    </tr>\n",
              "    <tr>\n",
              "      <th>1</th>\n",
              "      <td>7cdb9d2c-9644-42d0-8d44-50fa57747523</td>\n",
              "      <td>sikka</td>\n",
              "      <td>2022-11-26</td>\n",
              "      <td>2022-11-26</td>\n",
              "    </tr>\n",
              "    <tr>\n",
              "      <th>2</th>\n",
              "      <td>e2dfd115-a8b0-4e3e-96e5-9b11e5f316f1</td>\n",
              "      <td>sikka</td>\n",
              "      <td>2022-11-26</td>\n",
              "      <td>2022-11-28</td>\n",
              "    </tr>\n",
              "    <tr>\n",
              "      <th>3</th>\n",
              "      <td>f55000a3-dd68-44d8-b461-41c85d963ce2</td>\n",
              "      <td>sikka</td>\n",
              "      <td>2022-11-26</td>\n",
              "      <td>2022-11-27</td>\n",
              "    </tr>\n",
              "    <tr>\n",
              "      <th>4</th>\n",
              "      <td>a6d5ed73-5c1c-4666-a592-f93ab4489cf5</td>\n",
              "      <td>sikka</td>\n",
              "      <td>2022-11-26</td>\n",
              "      <td>2022-11-26</td>\n",
              "    </tr>\n",
              "  </tbody>\n",
              "</table>\n",
              "</div>\n",
              "      <button class=\"colab-df-convert\" onclick=\"convertToInteractive('df-be0a1e12-8ada-46f7-aacd-febe3fe52d72')\"\n",
              "              title=\"Convert this dataframe to an interactive table.\"\n",
              "              style=\"display:none;\">\n",
              "        \n",
              "  <svg xmlns=\"http://www.w3.org/2000/svg\" height=\"24px\"viewBox=\"0 0 24 24\"\n",
              "       width=\"24px\">\n",
              "    <path d=\"M0 0h24v24H0V0z\" fill=\"none\"/>\n",
              "    <path d=\"M18.56 5.44l.94 2.06.94-2.06 2.06-.94-2.06-.94-.94-2.06-.94 2.06-2.06.94zm-11 1L8.5 8.5l.94-2.06 2.06-.94-2.06-.94L8.5 2.5l-.94 2.06-2.06.94zm10 10l.94 2.06.94-2.06 2.06-.94-2.06-.94-.94-2.06-.94 2.06-2.06.94z\"/><path d=\"M17.41 7.96l-1.37-1.37c-.4-.4-.92-.59-1.43-.59-.52 0-1.04.2-1.43.59L10.3 9.45l-7.72 7.72c-.78.78-.78 2.05 0 2.83L4 21.41c.39.39.9.59 1.41.59.51 0 1.02-.2 1.41-.59l7.78-7.78 2.81-2.81c.8-.78.8-2.07 0-2.86zM5.41 20L4 18.59l7.72-7.72 1.47 1.35L5.41 20z\"/>\n",
              "  </svg>\n",
              "      </button>\n",
              "      \n",
              "  <style>\n",
              "    .colab-df-container {\n",
              "      display:flex;\n",
              "      flex-wrap:wrap;\n",
              "      gap: 12px;\n",
              "    }\n",
              "\n",
              "    .colab-df-convert {\n",
              "      background-color: #E8F0FE;\n",
              "      border: none;\n",
              "      border-radius: 50%;\n",
              "      cursor: pointer;\n",
              "      display: none;\n",
              "      fill: #1967D2;\n",
              "      height: 32px;\n",
              "      padding: 0 0 0 0;\n",
              "      width: 32px;\n",
              "    }\n",
              "\n",
              "    .colab-df-convert:hover {\n",
              "      background-color: #E2EBFA;\n",
              "      box-shadow: 0px 1px 2px rgba(60, 64, 67, 0.3), 0px 1px 3px 1px rgba(60, 64, 67, 0.15);\n",
              "      fill: #174EA6;\n",
              "    }\n",
              "\n",
              "    [theme=dark] .colab-df-convert {\n",
              "      background-color: #3B4455;\n",
              "      fill: #D2E3FC;\n",
              "    }\n",
              "\n",
              "    [theme=dark] .colab-df-convert:hover {\n",
              "      background-color: #434B5C;\n",
              "      box-shadow: 0px 1px 3px 1px rgba(0, 0, 0, 0.15);\n",
              "      filter: drop-shadow(0px 1px 2px rgba(0, 0, 0, 0.3));\n",
              "      fill: #FFFFFF;\n",
              "    }\n",
              "  </style>\n",
              "\n",
              "      <script>\n",
              "        const buttonEl =\n",
              "          document.querySelector('#df-be0a1e12-8ada-46f7-aacd-febe3fe52d72 button.colab-df-convert');\n",
              "        buttonEl.style.display =\n",
              "          google.colab.kernel.accessAllowed ? 'block' : 'none';\n",
              "\n",
              "        async function convertToInteractive(key) {\n",
              "          const element = document.querySelector('#df-be0a1e12-8ada-46f7-aacd-febe3fe52d72');\n",
              "          const dataTable =\n",
              "            await google.colab.kernel.invokeFunction('convertToInteractive',\n",
              "                                                     [key], {});\n",
              "          if (!dataTable) return;\n",
              "\n",
              "          const docLinkHtml = 'Like what you see? Visit the ' +\n",
              "            '<a target=\"_blank\" href=https://colab.research.google.com/notebooks/data_table.ipynb>data table notebook</a>'\n",
              "            + ' to learn more about interactive tables.';\n",
              "          element.innerHTML = '';\n",
              "          dataTable['output_type'] = 'display_data';\n",
              "          await google.colab.output.renderOutput(dataTable, element);\n",
              "          const docLink = document.createElement('div');\n",
              "          docLink.innerHTML = docLinkHtml;\n",
              "          element.appendChild(docLink);\n",
              "        }\n",
              "      </script>\n",
              "    </div>\n",
              "  </div>\n",
              "  "
            ]
          },
          "metadata": {},
          "execution_count": 5
        }
      ]
    },
    {
      "cell_type": "code",
      "source": [
        "user_offer.head()"
      ],
      "metadata": {
        "colab": {
          "base_uri": "https://localhost:8080/",
          "height": 206
        },
        "id": "HbZamo_hv-Bl",
        "outputId": "1f438ef3-bcbd-4b17-b8e7-fb46903e169b"
      },
      "execution_count": null,
      "outputs": [
        {
          "output_type": "execute_result",
          "data": {
            "text/plain": [
              "   Unnamed: 0                               user_id  offer_id   status  \\\n",
              "0           0  44f9c9f1-1ce1-4b04-8042-ddb1c548c589       792  ONGOING   \n",
              "1           1  e5c792a3-9cd9-4d10-a7b5-e5ee0f0f5fad      3462  ONGOING   \n",
              "2           2  033c38d4-fd46-45a2-b09a-18d637c54129      3462  ONGOING   \n",
              "3           3  8a488246-83d3-4028-b216-85ee8c3e504d      2328  ONGOING   \n",
              "4           4  aff26172-41d6-4e69-9b02-48011fe35804      3467  ONGOING   \n",
              "\n",
              "                         started_at completed_at  \\\n",
              "0  2022-11-26 07:25:38.995614+00:00          NaN   \n",
              "1  2022-11-26 01:19:42.059483+00:00          NaN   \n",
              "2  2022-11-26 14:12:39.365453+00:00          NaN   \n",
              "3  2022-11-26 02:51:44.438026+00:00          NaN   \n",
              "4  2022-11-26 11:44:25.915581+00:00          NaN   \n",
              "\n",
              "                         expires_at  \n",
              "0         2022-11-27 18:29:59+00:00  \n",
              "1  2022-11-28 01:19:42.066140+00:00  \n",
              "2  2022-11-28 14:12:39.369689+00:00  \n",
              "3  2022-11-28 02:51:44.441869+00:00  \n",
              "4  2022-11-28 11:44:25.921249+00:00  "
            ],
            "text/html": [
              "\n",
              "  <div id=\"df-565bf584-2763-466a-8c1b-ab23faf6e781\">\n",
              "    <div class=\"colab-df-container\">\n",
              "      <div>\n",
              "<style scoped>\n",
              "    .dataframe tbody tr th:only-of-type {\n",
              "        vertical-align: middle;\n",
              "    }\n",
              "\n",
              "    .dataframe tbody tr th {\n",
              "        vertical-align: top;\n",
              "    }\n",
              "\n",
              "    .dataframe thead th {\n",
              "        text-align: right;\n",
              "    }\n",
              "</style>\n",
              "<table border=\"1\" class=\"dataframe\">\n",
              "  <thead>\n",
              "    <tr style=\"text-align: right;\">\n",
              "      <th></th>\n",
              "      <th>Unnamed: 0</th>\n",
              "      <th>user_id</th>\n",
              "      <th>offer_id</th>\n",
              "      <th>status</th>\n",
              "      <th>started_at</th>\n",
              "      <th>completed_at</th>\n",
              "      <th>expires_at</th>\n",
              "    </tr>\n",
              "  </thead>\n",
              "  <tbody>\n",
              "    <tr>\n",
              "      <th>0</th>\n",
              "      <td>0</td>\n",
              "      <td>44f9c9f1-1ce1-4b04-8042-ddb1c548c589</td>\n",
              "      <td>792</td>\n",
              "      <td>ONGOING</td>\n",
              "      <td>2022-11-26 07:25:38.995614+00:00</td>\n",
              "      <td>NaN</td>\n",
              "      <td>2022-11-27 18:29:59+00:00</td>\n",
              "    </tr>\n",
              "    <tr>\n",
              "      <th>1</th>\n",
              "      <td>1</td>\n",
              "      <td>e5c792a3-9cd9-4d10-a7b5-e5ee0f0f5fad</td>\n",
              "      <td>3462</td>\n",
              "      <td>ONGOING</td>\n",
              "      <td>2022-11-26 01:19:42.059483+00:00</td>\n",
              "      <td>NaN</td>\n",
              "      <td>2022-11-28 01:19:42.066140+00:00</td>\n",
              "    </tr>\n",
              "    <tr>\n",
              "      <th>2</th>\n",
              "      <td>2</td>\n",
              "      <td>033c38d4-fd46-45a2-b09a-18d637c54129</td>\n",
              "      <td>3462</td>\n",
              "      <td>ONGOING</td>\n",
              "      <td>2022-11-26 14:12:39.365453+00:00</td>\n",
              "      <td>NaN</td>\n",
              "      <td>2022-11-28 14:12:39.369689+00:00</td>\n",
              "    </tr>\n",
              "    <tr>\n",
              "      <th>3</th>\n",
              "      <td>3</td>\n",
              "      <td>8a488246-83d3-4028-b216-85ee8c3e504d</td>\n",
              "      <td>2328</td>\n",
              "      <td>ONGOING</td>\n",
              "      <td>2022-11-26 02:51:44.438026+00:00</td>\n",
              "      <td>NaN</td>\n",
              "      <td>2022-11-28 02:51:44.441869+00:00</td>\n",
              "    </tr>\n",
              "    <tr>\n",
              "      <th>4</th>\n",
              "      <td>4</td>\n",
              "      <td>aff26172-41d6-4e69-9b02-48011fe35804</td>\n",
              "      <td>3467</td>\n",
              "      <td>ONGOING</td>\n",
              "      <td>2022-11-26 11:44:25.915581+00:00</td>\n",
              "      <td>NaN</td>\n",
              "      <td>2022-11-28 11:44:25.921249+00:00</td>\n",
              "    </tr>\n",
              "  </tbody>\n",
              "</table>\n",
              "</div>\n",
              "      <button class=\"colab-df-convert\" onclick=\"convertToInteractive('df-565bf584-2763-466a-8c1b-ab23faf6e781')\"\n",
              "              title=\"Convert this dataframe to an interactive table.\"\n",
              "              style=\"display:none;\">\n",
              "        \n",
              "  <svg xmlns=\"http://www.w3.org/2000/svg\" height=\"24px\"viewBox=\"0 0 24 24\"\n",
              "       width=\"24px\">\n",
              "    <path d=\"M0 0h24v24H0V0z\" fill=\"none\"/>\n",
              "    <path d=\"M18.56 5.44l.94 2.06.94-2.06 2.06-.94-2.06-.94-.94-2.06-.94 2.06-2.06.94zm-11 1L8.5 8.5l.94-2.06 2.06-.94-2.06-.94L8.5 2.5l-.94 2.06-2.06.94zm10 10l.94 2.06.94-2.06 2.06-.94-2.06-.94-.94-2.06-.94 2.06-2.06.94z\"/><path d=\"M17.41 7.96l-1.37-1.37c-.4-.4-.92-.59-1.43-.59-.52 0-1.04.2-1.43.59L10.3 9.45l-7.72 7.72c-.78.78-.78 2.05 0 2.83L4 21.41c.39.39.9.59 1.41.59.51 0 1.02-.2 1.41-.59l7.78-7.78 2.81-2.81c.8-.78.8-2.07 0-2.86zM5.41 20L4 18.59l7.72-7.72 1.47 1.35L5.41 20z\"/>\n",
              "  </svg>\n",
              "      </button>\n",
              "      \n",
              "  <style>\n",
              "    .colab-df-container {\n",
              "      display:flex;\n",
              "      flex-wrap:wrap;\n",
              "      gap: 12px;\n",
              "    }\n",
              "\n",
              "    .colab-df-convert {\n",
              "      background-color: #E8F0FE;\n",
              "      border: none;\n",
              "      border-radius: 50%;\n",
              "      cursor: pointer;\n",
              "      display: none;\n",
              "      fill: #1967D2;\n",
              "      height: 32px;\n",
              "      padding: 0 0 0 0;\n",
              "      width: 32px;\n",
              "    }\n",
              "\n",
              "    .colab-df-convert:hover {\n",
              "      background-color: #E2EBFA;\n",
              "      box-shadow: 0px 1px 2px rgba(60, 64, 67, 0.3), 0px 1px 3px 1px rgba(60, 64, 67, 0.15);\n",
              "      fill: #174EA6;\n",
              "    }\n",
              "\n",
              "    [theme=dark] .colab-df-convert {\n",
              "      background-color: #3B4455;\n",
              "      fill: #D2E3FC;\n",
              "    }\n",
              "\n",
              "    [theme=dark] .colab-df-convert:hover {\n",
              "      background-color: #434B5C;\n",
              "      box-shadow: 0px 1px 3px 1px rgba(0, 0, 0, 0.15);\n",
              "      filter: drop-shadow(0px 1px 2px rgba(0, 0, 0, 0.3));\n",
              "      fill: #FFFFFF;\n",
              "    }\n",
              "  </style>\n",
              "\n",
              "      <script>\n",
              "        const buttonEl =\n",
              "          document.querySelector('#df-565bf584-2763-466a-8c1b-ab23faf6e781 button.colab-df-convert');\n",
              "        buttonEl.style.display =\n",
              "          google.colab.kernel.accessAllowed ? 'block' : 'none';\n",
              "\n",
              "        async function convertToInteractive(key) {\n",
              "          const element = document.querySelector('#df-565bf584-2763-466a-8c1b-ab23faf6e781');\n",
              "          const dataTable =\n",
              "            await google.colab.kernel.invokeFunction('convertToInteractive',\n",
              "                                                     [key], {});\n",
              "          if (!dataTable) return;\n",
              "\n",
              "          const docLinkHtml = 'Like what you see? Visit the ' +\n",
              "            '<a target=\"_blank\" href=https://colab.research.google.com/notebooks/data_table.ipynb>data table notebook</a>'\n",
              "            + ' to learn more about interactive tables.';\n",
              "          element.innerHTML = '';\n",
              "          dataTable['output_type'] = 'display_data';\n",
              "          await google.colab.output.renderOutput(dataTable, element);\n",
              "          const docLink = document.createElement('div');\n",
              "          docLink.innerHTML = docLinkHtml;\n",
              "          element.appendChild(docLink);\n",
              "        }\n",
              "      </script>\n",
              "    </div>\n",
              "  </div>\n",
              "  "
            ]
          },
          "metadata": {},
          "execution_count": 6
        }
      ]
    },
    {
      "cell_type": "code",
      "source": [
        "rewards.head()\n"
      ],
      "metadata": {
        "colab": {
          "base_uri": "https://localhost:8080/",
          "height": 206
        },
        "id": "ealFgWckvZsK",
        "outputId": "026bc771-5bbd-4a16-b4f5-d58e525d0dbc"
      },
      "execution_count": null,
      "outputs": [
        {
          "output_type": "execute_result",
          "data": {
            "text/plain": [
              "   Unnamed: 0  offer_id  reward_id       label_in_english  \\\n",
              "0           0       369        451           Download APK   \n",
              "1           1       400        488               Download   \n",
              "2           2       402        491               Download   \n",
              "3           3       447        541        Register on App   \n",
              "4           4       478        586  Complete Registration   \n",
              "\n",
              "   total_payout_in_paise  total_revenue_in_paise  \n",
              "0                    500                       0  \n",
              "1                     30                       0  \n",
              "2                    500                       0  \n",
              "3                    500                       0  \n",
              "4                    500                       0  "
            ],
            "text/html": [
              "\n",
              "  <div id=\"df-c0e38a68-1f69-46ba-9d43-2a424e9823f8\">\n",
              "    <div class=\"colab-df-container\">\n",
              "      <div>\n",
              "<style scoped>\n",
              "    .dataframe tbody tr th:only-of-type {\n",
              "        vertical-align: middle;\n",
              "    }\n",
              "\n",
              "    .dataframe tbody tr th {\n",
              "        vertical-align: top;\n",
              "    }\n",
              "\n",
              "    .dataframe thead th {\n",
              "        text-align: right;\n",
              "    }\n",
              "</style>\n",
              "<table border=\"1\" class=\"dataframe\">\n",
              "  <thead>\n",
              "    <tr style=\"text-align: right;\">\n",
              "      <th></th>\n",
              "      <th>Unnamed: 0</th>\n",
              "      <th>offer_id</th>\n",
              "      <th>reward_id</th>\n",
              "      <th>label_in_english</th>\n",
              "      <th>total_payout_in_paise</th>\n",
              "      <th>total_revenue_in_paise</th>\n",
              "    </tr>\n",
              "  </thead>\n",
              "  <tbody>\n",
              "    <tr>\n",
              "      <th>0</th>\n",
              "      <td>0</td>\n",
              "      <td>369</td>\n",
              "      <td>451</td>\n",
              "      <td>Download APK</td>\n",
              "      <td>500</td>\n",
              "      <td>0</td>\n",
              "    </tr>\n",
              "    <tr>\n",
              "      <th>1</th>\n",
              "      <td>1</td>\n",
              "      <td>400</td>\n",
              "      <td>488</td>\n",
              "      <td>Download</td>\n",
              "      <td>30</td>\n",
              "      <td>0</td>\n",
              "    </tr>\n",
              "    <tr>\n",
              "      <th>2</th>\n",
              "      <td>2</td>\n",
              "      <td>402</td>\n",
              "      <td>491</td>\n",
              "      <td>Download</td>\n",
              "      <td>500</td>\n",
              "      <td>0</td>\n",
              "    </tr>\n",
              "    <tr>\n",
              "      <th>3</th>\n",
              "      <td>3</td>\n",
              "      <td>447</td>\n",
              "      <td>541</td>\n",
              "      <td>Register on App</td>\n",
              "      <td>500</td>\n",
              "      <td>0</td>\n",
              "    </tr>\n",
              "    <tr>\n",
              "      <th>4</th>\n",
              "      <td>4</td>\n",
              "      <td>478</td>\n",
              "      <td>586</td>\n",
              "      <td>Complete Registration</td>\n",
              "      <td>500</td>\n",
              "      <td>0</td>\n",
              "    </tr>\n",
              "  </tbody>\n",
              "</table>\n",
              "</div>\n",
              "      <button class=\"colab-df-convert\" onclick=\"convertToInteractive('df-c0e38a68-1f69-46ba-9d43-2a424e9823f8')\"\n",
              "              title=\"Convert this dataframe to an interactive table.\"\n",
              "              style=\"display:none;\">\n",
              "        \n",
              "  <svg xmlns=\"http://www.w3.org/2000/svg\" height=\"24px\"viewBox=\"0 0 24 24\"\n",
              "       width=\"24px\">\n",
              "    <path d=\"M0 0h24v24H0V0z\" fill=\"none\"/>\n",
              "    <path d=\"M18.56 5.44l.94 2.06.94-2.06 2.06-.94-2.06-.94-.94-2.06-.94 2.06-2.06.94zm-11 1L8.5 8.5l.94-2.06 2.06-.94-2.06-.94L8.5 2.5l-.94 2.06-2.06.94zm10 10l.94 2.06.94-2.06 2.06-.94-2.06-.94-.94-2.06-.94 2.06-2.06.94z\"/><path d=\"M17.41 7.96l-1.37-1.37c-.4-.4-.92-.59-1.43-.59-.52 0-1.04.2-1.43.59L10.3 9.45l-7.72 7.72c-.78.78-.78 2.05 0 2.83L4 21.41c.39.39.9.59 1.41.59.51 0 1.02-.2 1.41-.59l7.78-7.78 2.81-2.81c.8-.78.8-2.07 0-2.86zM5.41 20L4 18.59l7.72-7.72 1.47 1.35L5.41 20z\"/>\n",
              "  </svg>\n",
              "      </button>\n",
              "      \n",
              "  <style>\n",
              "    .colab-df-container {\n",
              "      display:flex;\n",
              "      flex-wrap:wrap;\n",
              "      gap: 12px;\n",
              "    }\n",
              "\n",
              "    .colab-df-convert {\n",
              "      background-color: #E8F0FE;\n",
              "      border: none;\n",
              "      border-radius: 50%;\n",
              "      cursor: pointer;\n",
              "      display: none;\n",
              "      fill: #1967D2;\n",
              "      height: 32px;\n",
              "      padding: 0 0 0 0;\n",
              "      width: 32px;\n",
              "    }\n",
              "\n",
              "    .colab-df-convert:hover {\n",
              "      background-color: #E2EBFA;\n",
              "      box-shadow: 0px 1px 2px rgba(60, 64, 67, 0.3), 0px 1px 3px 1px rgba(60, 64, 67, 0.15);\n",
              "      fill: #174EA6;\n",
              "    }\n",
              "\n",
              "    [theme=dark] .colab-df-convert {\n",
              "      background-color: #3B4455;\n",
              "      fill: #D2E3FC;\n",
              "    }\n",
              "\n",
              "    [theme=dark] .colab-df-convert:hover {\n",
              "      background-color: #434B5C;\n",
              "      box-shadow: 0px 1px 3px 1px rgba(0, 0, 0, 0.15);\n",
              "      filter: drop-shadow(0px 1px 2px rgba(0, 0, 0, 0.3));\n",
              "      fill: #FFFFFF;\n",
              "    }\n",
              "  </style>\n",
              "\n",
              "      <script>\n",
              "        const buttonEl =\n",
              "          document.querySelector('#df-c0e38a68-1f69-46ba-9d43-2a424e9823f8 button.colab-df-convert');\n",
              "        buttonEl.style.display =\n",
              "          google.colab.kernel.accessAllowed ? 'block' : 'none';\n",
              "\n",
              "        async function convertToInteractive(key) {\n",
              "          const element = document.querySelector('#df-c0e38a68-1f69-46ba-9d43-2a424e9823f8');\n",
              "          const dataTable =\n",
              "            await google.colab.kernel.invokeFunction('convertToInteractive',\n",
              "                                                     [key], {});\n",
              "          if (!dataTable) return;\n",
              "\n",
              "          const docLinkHtml = 'Like what you see? Visit the ' +\n",
              "            '<a target=\"_blank\" href=https://colab.research.google.com/notebooks/data_table.ipynb>data table notebook</a>'\n",
              "            + ' to learn more about interactive tables.';\n",
              "          element.innerHTML = '';\n",
              "          dataTable['output_type'] = 'display_data';\n",
              "          await google.colab.output.renderOutput(dataTable, element);\n",
              "          const docLink = document.createElement('div');\n",
              "          docLink.innerHTML = docLinkHtml;\n",
              "          element.appendChild(docLink);\n",
              "        }\n",
              "      </script>\n",
              "    </div>\n",
              "  </div>\n",
              "  "
            ]
          },
          "metadata": {},
          "execution_count": 9
        }
      ]
    },
    {
      "cell_type": "code",
      "source": [
        "user_offer_completion.head()"
      ],
      "metadata": {
        "colab": {
          "base_uri": "https://localhost:8080/",
          "height": 206
        },
        "id": "Kg2PPgc4v_tQ",
        "outputId": "d13dd1c2-d989-44af-ed64-a65a65c7cb45"
      },
      "execution_count": null,
      "outputs": [
        {
          "output_type": "execute_result",
          "data": {
            "text/plain": [
              "   Unnamed: 0  reward_id                               user_id        date  \\\n",
              "0           0       3712  4cb29e43-9f23-42fe-bab8-2422f42e7a91  2022-11-29   \n",
              "1           1        935  4cb29e43-9f23-42fe-bab8-2422f42e7a91  2022-11-29   \n",
              "2           2       3416  44f9c9f1-1ce1-4b04-8042-ddb1c548c589  2022-11-28   \n",
              "3           3       3720  55e70808-0ed9-44fd-9d87-819ba9dc4d3e  2022-11-27   \n",
              "4           4       3735  4cb29e43-9f23-42fe-bab8-2422f42e7a91  2022-11-29   \n",
              "\n",
              "  app_id  \n",
              "0  sikka  \n",
              "1  sikka  \n",
              "2  sikka  \n",
              "3  sikka  \n",
              "4  sikka  "
            ],
            "text/html": [
              "\n",
              "  <div id=\"df-bca9dddc-81f7-4871-a716-ae53dddef2a4\">\n",
              "    <div class=\"colab-df-container\">\n",
              "      <div>\n",
              "<style scoped>\n",
              "    .dataframe tbody tr th:only-of-type {\n",
              "        vertical-align: middle;\n",
              "    }\n",
              "\n",
              "    .dataframe tbody tr th {\n",
              "        vertical-align: top;\n",
              "    }\n",
              "\n",
              "    .dataframe thead th {\n",
              "        text-align: right;\n",
              "    }\n",
              "</style>\n",
              "<table border=\"1\" class=\"dataframe\">\n",
              "  <thead>\n",
              "    <tr style=\"text-align: right;\">\n",
              "      <th></th>\n",
              "      <th>Unnamed: 0</th>\n",
              "      <th>reward_id</th>\n",
              "      <th>user_id</th>\n",
              "      <th>date</th>\n",
              "      <th>app_id</th>\n",
              "    </tr>\n",
              "  </thead>\n",
              "  <tbody>\n",
              "    <tr>\n",
              "      <th>0</th>\n",
              "      <td>0</td>\n",
              "      <td>3712</td>\n",
              "      <td>4cb29e43-9f23-42fe-bab8-2422f42e7a91</td>\n",
              "      <td>2022-11-29</td>\n",
              "      <td>sikka</td>\n",
              "    </tr>\n",
              "    <tr>\n",
              "      <th>1</th>\n",
              "      <td>1</td>\n",
              "      <td>935</td>\n",
              "      <td>4cb29e43-9f23-42fe-bab8-2422f42e7a91</td>\n",
              "      <td>2022-11-29</td>\n",
              "      <td>sikka</td>\n",
              "    </tr>\n",
              "    <tr>\n",
              "      <th>2</th>\n",
              "      <td>2</td>\n",
              "      <td>3416</td>\n",
              "      <td>44f9c9f1-1ce1-4b04-8042-ddb1c548c589</td>\n",
              "      <td>2022-11-28</td>\n",
              "      <td>sikka</td>\n",
              "    </tr>\n",
              "    <tr>\n",
              "      <th>3</th>\n",
              "      <td>3</td>\n",
              "      <td>3720</td>\n",
              "      <td>55e70808-0ed9-44fd-9d87-819ba9dc4d3e</td>\n",
              "      <td>2022-11-27</td>\n",
              "      <td>sikka</td>\n",
              "    </tr>\n",
              "    <tr>\n",
              "      <th>4</th>\n",
              "      <td>4</td>\n",
              "      <td>3735</td>\n",
              "      <td>4cb29e43-9f23-42fe-bab8-2422f42e7a91</td>\n",
              "      <td>2022-11-29</td>\n",
              "      <td>sikka</td>\n",
              "    </tr>\n",
              "  </tbody>\n",
              "</table>\n",
              "</div>\n",
              "      <button class=\"colab-df-convert\" onclick=\"convertToInteractive('df-bca9dddc-81f7-4871-a716-ae53dddef2a4')\"\n",
              "              title=\"Convert this dataframe to an interactive table.\"\n",
              "              style=\"display:none;\">\n",
              "        \n",
              "  <svg xmlns=\"http://www.w3.org/2000/svg\" height=\"24px\"viewBox=\"0 0 24 24\"\n",
              "       width=\"24px\">\n",
              "    <path d=\"M0 0h24v24H0V0z\" fill=\"none\"/>\n",
              "    <path d=\"M18.56 5.44l.94 2.06.94-2.06 2.06-.94-2.06-.94-.94-2.06-.94 2.06-2.06.94zm-11 1L8.5 8.5l.94-2.06 2.06-.94-2.06-.94L8.5 2.5l-.94 2.06-2.06.94zm10 10l.94 2.06.94-2.06 2.06-.94-2.06-.94-.94-2.06-.94 2.06-2.06.94z\"/><path d=\"M17.41 7.96l-1.37-1.37c-.4-.4-.92-.59-1.43-.59-.52 0-1.04.2-1.43.59L10.3 9.45l-7.72 7.72c-.78.78-.78 2.05 0 2.83L4 21.41c.39.39.9.59 1.41.59.51 0 1.02-.2 1.41-.59l7.78-7.78 2.81-2.81c.8-.78.8-2.07 0-2.86zM5.41 20L4 18.59l7.72-7.72 1.47 1.35L5.41 20z\"/>\n",
              "  </svg>\n",
              "      </button>\n",
              "      \n",
              "  <style>\n",
              "    .colab-df-container {\n",
              "      display:flex;\n",
              "      flex-wrap:wrap;\n",
              "      gap: 12px;\n",
              "    }\n",
              "\n",
              "    .colab-df-convert {\n",
              "      background-color: #E8F0FE;\n",
              "      border: none;\n",
              "      border-radius: 50%;\n",
              "      cursor: pointer;\n",
              "      display: none;\n",
              "      fill: #1967D2;\n",
              "      height: 32px;\n",
              "      padding: 0 0 0 0;\n",
              "      width: 32px;\n",
              "    }\n",
              "\n",
              "    .colab-df-convert:hover {\n",
              "      background-color: #E2EBFA;\n",
              "      box-shadow: 0px 1px 2px rgba(60, 64, 67, 0.3), 0px 1px 3px 1px rgba(60, 64, 67, 0.15);\n",
              "      fill: #174EA6;\n",
              "    }\n",
              "\n",
              "    [theme=dark] .colab-df-convert {\n",
              "      background-color: #3B4455;\n",
              "      fill: #D2E3FC;\n",
              "    }\n",
              "\n",
              "    [theme=dark] .colab-df-convert:hover {\n",
              "      background-color: #434B5C;\n",
              "      box-shadow: 0px 1px 3px 1px rgba(0, 0, 0, 0.15);\n",
              "      filter: drop-shadow(0px 1px 2px rgba(0, 0, 0, 0.3));\n",
              "      fill: #FFFFFF;\n",
              "    }\n",
              "  </style>\n",
              "\n",
              "      <script>\n",
              "        const buttonEl =\n",
              "          document.querySelector('#df-bca9dddc-81f7-4871-a716-ae53dddef2a4 button.colab-df-convert');\n",
              "        buttonEl.style.display =\n",
              "          google.colab.kernel.accessAllowed ? 'block' : 'none';\n",
              "\n",
              "        async function convertToInteractive(key) {\n",
              "          const element = document.querySelector('#df-bca9dddc-81f7-4871-a716-ae53dddef2a4');\n",
              "          const dataTable =\n",
              "            await google.colab.kernel.invokeFunction('convertToInteractive',\n",
              "                                                     [key], {});\n",
              "          if (!dataTable) return;\n",
              "\n",
              "          const docLinkHtml = 'Like what you see? Visit the ' +\n",
              "            '<a target=\"_blank\" href=https://colab.research.google.com/notebooks/data_table.ipynb>data table notebook</a>'\n",
              "            + ' to learn more about interactive tables.';\n",
              "          element.innerHTML = '';\n",
              "          dataTable['output_type'] = 'display_data';\n",
              "          await google.colab.output.renderOutput(dataTable, element);\n",
              "          const docLink = document.createElement('div');\n",
              "          docLink.innerHTML = docLinkHtml;\n",
              "          element.appendChild(docLink);\n",
              "        }\n",
              "      </script>\n",
              "    </div>\n",
              "  </div>\n",
              "  "
            ]
          },
          "metadata": {},
          "execution_count": 10
        }
      ]
    },
    {
      "cell_type": "markdown",
      "source": [
        "# **question 1**"
      ],
      "metadata": {
        "id": "v3d5mYkHgkZ7"
      }
    },
    {
      "cell_type": "markdown",
      "source": [
        "# **Given below is only theoretical approach as we didnt have any dataset for this question**"
      ],
      "metadata": {
        "id": "WvNgW9PVhEPr"
      }
    },
    {
      "cell_type": "code",
      "source": [
        "import pandas as pd\n",
        "\n",
        "\n",
        "# Load User Signup data, User offer completion data, and Rewards details tables into DataFrames\n",
        "user_signup_df = pd.read_csv('user_signup_data.csv')\n",
        "user_offer_completion_df = pd.read_csv('user_offer_completion_data.csv')\n",
        "rewards_details_df = pd.read_csv('rewards_details.csv')\n",
        "\n",
        "# Merge User offer completion data and Rewards details tables on offer_id\n",
        "offer_reward_df = pd.merge(user_offer_completion_df, rewards_details_df, on='offer_id')\n",
        "\n",
        "# Merge resulting table with User Signup data table on user_id\n",
        "merged_df = pd.merge(offer_reward_df, user_signup_df, on='user_id')\n",
        "\n",
        "# Group by utm_source and sum total_payout_in_paise to compute total revenue and cost\n",
        "revenue_cost_df = merged_df.groupby('utm_source').agg(\n",
        "    total_revenue=('total_revenue_in_paise', 'sum'),\n",
        "    total_cost=('total_payout_in_paise', 'sum')\n",
        ")\n",
        "\n",
        "# Count number of users in each marketing channel\n",
        "user_count_df = merged_df.groupby('utm_source').agg(user_count=('user_id', 'nunique'))\n",
        "\n",
        "# Calculate cost of acquisition per user for each marketing channel\n",
        "cac_df = revenue_cost_df.join(user_count_df).assign(\n",
        "    cac=lambda x: x['total_cost'] / x['user_count']\n",
        ")\n",
        "\n",
        "# Calculate average revenue per user (ARPU) for each marketing channel\n",
        "arpu_df = revenue_cost_df.join(user_count_df).assign(\n",
        "    arpu=lambda x: x['total_revenue'] / x['user_count']\n",
        ")\n",
        "\n",
        "# Estimate average customer lifetime (ACL) for each marketing channel (let's assume 2 years for this example)\n",
        "acl_df = pd.DataFrame({'utm_source': arpu_df.index, 'acl': [2]*len(arpu_df)})\n",
        "\n",
        "# Calculate lifetime value (LTV) for each marketing channel\n",
        "ltv_df = pd.merge(arpu_df, acl_df, on='utm_source').assign(ltv=lambda x: x['arpu'] * x['acl'])\n",
        "\n",
        "\n"
      ],
      "metadata": {
        "id": "X85R62tggq4-"
      },
      "execution_count": null,
      "outputs": []
    },
    {
      "cell_type": "markdown",
      "source": [
        "# **question 2**"
      ],
      "metadata": {
        "id": "QqZhrQklzCIS"
      }
    },
    {
      "cell_type": "markdown",
      "source": [
        "**Comparing Number of Offer Initiation by users for \"sikka\" & \"sikka pro\"**"
      ],
      "metadata": {
        "id": "DgR7qD0FwIyj"
      }
    },
    {
      "cell_type": "code",
      "source": [
        "# Merge user_signup and user_offer tables\n",
        "user_data = pd.merge(user_signup, user_offer, on='user_id')\n",
        "\n",
        "# Count the number of offer initiations for each app\n",
        "sikka_offer_count = user_data[user_data['app_id'] == 'sikka'].shape[0]\n",
        "sikka_pro_offer_count = user_data[user_data['app_id'] == 'sikka_pro'].shape[0]\n",
        "\n",
        "print(f\"Number of offer initiations on Sikka app: {sikka_offer_count}\")\n",
        "print(f\"Number of offer initiations on Sikka Pro app: {sikka_pro_offer_count}\")"
      ],
      "metadata": {
        "colab": {
          "base_uri": "https://localhost:8080/"
        },
        "id": "mvmfrw1Tvznp",
        "outputId": "0b7be39e-2dc8-4da0-9553-7619b0d3e0b1"
      },
      "execution_count": null,
      "outputs": [
        {
          "output_type": "stream",
          "name": "stdout",
          "text": [
            "Number of offer initiations on Sikka app: 262\n",
            "Number of offer initiations on Sikka Pro app: 237\n"
          ]
        }
      ]
    },
    {
      "cell_type": "markdown",
      "source": [
        "**Comparing total payout for both sikka and sikka pro**"
      ],
      "metadata": {
        "id": "32leTogIxt5d"
      }
    },
    {
      "cell_type": "code",
      "source": [
        "# Merge the two tables on reward_id to get the total payout and revenue for each completed offer\n",
        "offer_rewards = pd.merge(user_offer_completion, rewards, on='reward_id')\n",
        "offer_rewards = offer_rewards[['app_id', 'total_payout_in_paise', 'total_revenue_in_paise']].groupby('app_id').sum()\n",
        "\n",
        "# Print the total payout and revenue for each app\n",
        "print(f\"Total payout for Sikka app: {offer_rewards.loc['sikka', 'total_payout_in_paise'] / 100}\")\n",
        "print(f\"Total payout for Sikka Pro app: {offer_rewards.loc['sikka_pro', 'total_payout_in_paise'] / 100}\")\n"
      ],
      "metadata": {
        "colab": {
          "base_uri": "https://localhost:8080/"
        },
        "id": "zQ0ihT5JxwOO",
        "outputId": "8db3635e-9c4a-490f-95a2-dffd0c0646f1"
      },
      "execution_count": null,
      "outputs": [
        {
          "output_type": "stream",
          "name": "stdout",
          "text": [
            "Total payout for Sikka app: 184.66\n",
            "Total payout for Sikka Pro app: 196.18\n"
          ]
        }
      ]
    },
    {
      "cell_type": "markdown",
      "source": [
        "**Comparing the rewards earned by users on both app**"
      ],
      "metadata": {
        "id": "dnXypoSHyA9w"
      }
    },
    {
      "cell_type": "code",
      "source": [
        "# Join the user_offer_completion and rewards tables on reward_id\n",
        "rewards_earned = pd.merge(user_offer_completion, rewards, on='reward_id')\n",
        "\n",
        "# Group the data by app and sum the rewards earned by users\n",
        "rewards_earned_by_app = rewards_earned.groupby('app_id')['total_payout_in_paise'].sum()\n",
        "\n",
        "print(\"Rewards earned by users:\")\n",
        "print(rewards_earned_by_app)"
      ],
      "metadata": {
        "colab": {
          "base_uri": "https://localhost:8080/"
        },
        "id": "cczgq5yoym7D",
        "outputId": "c49f118c-7b84-4b9c-fde0-bf0c08ea3867"
      },
      "execution_count": null,
      "outputs": [
        {
          "output_type": "stream",
          "name": "stdout",
          "text": [
            "Rewards earned by users:\n",
            "app_id\n",
            "sikka        18466\n",
            "sikka_pro    19618\n",
            "Name: total_payout_in_paise, dtype: int64\n"
          ]
        }
      ]
    },
    {
      "cell_type": "markdown",
      "source": [
        "**Comparing revenue generated by both app**"
      ],
      "metadata": {
        "id": "r_geDFKMyWF5"
      }
    },
    {
      "cell_type": "code",
      "source": [
        "# Merge the user_offer_completion and rewards tables on reward_id\n",
        "merged_data = user_offer_completion.merge(rewards, on='reward_id')\n",
        "\n",
        "# Calculate revenue for each app\n",
        "sikka_revenue = merged_data[merged_data['app_id'] == 'sikka']['total_revenue_in_paise'].sum()\n",
        "sikka_pro_revenue = merged_data[merged_data['app_id'] == 'sikka_pro']['total_revenue_in_paise'].sum()\n",
        "\n",
        "print(f\"Revenue generated by Sikka app: {sikka_revenue}\")\n",
        "print(f\"Revenue generated by Sikka Pro app: {sikka_pro_revenue}\")"
      ],
      "metadata": {
        "colab": {
          "base_uri": "https://localhost:8080/"
        },
        "id": "Ob1eJs4NzOGY",
        "outputId": "66dd378b-87de-40c4-a961-23e051312ffe"
      },
      "execution_count": null,
      "outputs": [
        {
          "output_type": "stream",
          "name": "stdout",
          "text": [
            "Revenue generated by Sikka app: 39687\n",
            "Revenue generated by Sikka Pro app: 40457\n"
          ]
        }
      ]
    },
    {
      "cell_type": "markdown",
      "source": [
        "**From above comparision we can say sikka pro app is doing much better.**"
      ],
      "metadata": {
        "id": "bjCBkgWCyfWQ"
      }
    },
    {
      "cell_type": "markdown",
      "source": [
        "# **question 3**"
      ],
      "metadata": {
        "id": "JXtbF2B00Rcn"
      }
    },
    {
      "cell_type": "code",
      "source": [
        "path5='/content/drive/MyDrive/Greedy/Copy of Q3_Sikka data.csv'"
      ],
      "metadata": {
        "id": "3RBhYa9x0VAF"
      },
      "execution_count": null,
      "outputs": []
    },
    {
      "cell_type": "code",
      "source": [
        "# Load the Sikka_numbers table\n",
        "sikka_numbers = pd.read_csv(path5)"
      ],
      "metadata": {
        "id": "-CiH_lbK1ZaK"
      },
      "execution_count": null,
      "outputs": []
    },
    {
      "cell_type": "code",
      "source": [
        "sikka_numbers.head()"
      ],
      "metadata": {
        "colab": {
          "base_uri": "https://localhost:8080/",
          "height": 206
        },
        "id": "MObve9O2zikq",
        "outputId": "aa4044f1-16cc-4fee-ae79-6fc6bce7c380"
      },
      "execution_count": null,
      "outputs": [
        {
          "output_type": "execute_result",
          "data": {
            "text/plain": [
              "         Date    DAU  Installs  Uninstalls  Signups  Referrals\n",
              "0  2022-10-01  24071      6630        6994     3511      962.0\n",
              "1  2022-10-02  23548      6366        6669     3387      941.0\n",
              "2  2022-10-03  24572      6936        6899     3654      940.0\n",
              "3  2022-10-04  24212      6561        6766     3532      960.0\n",
              "4  2022-10-05  23247      6059        6402     3315      923.0"
            ],
            "text/html": [
              "\n",
              "  <div id=\"df-47048c54-2f81-4988-9305-a464cd9163a6\">\n",
              "    <div class=\"colab-df-container\">\n",
              "      <div>\n",
              "<style scoped>\n",
              "    .dataframe tbody tr th:only-of-type {\n",
              "        vertical-align: middle;\n",
              "    }\n",
              "\n",
              "    .dataframe tbody tr th {\n",
              "        vertical-align: top;\n",
              "    }\n",
              "\n",
              "    .dataframe thead th {\n",
              "        text-align: right;\n",
              "    }\n",
              "</style>\n",
              "<table border=\"1\" class=\"dataframe\">\n",
              "  <thead>\n",
              "    <tr style=\"text-align: right;\">\n",
              "      <th></th>\n",
              "      <th>Date</th>\n",
              "      <th>DAU</th>\n",
              "      <th>Installs</th>\n",
              "      <th>Uninstalls</th>\n",
              "      <th>Signups</th>\n",
              "      <th>Referrals</th>\n",
              "    </tr>\n",
              "  </thead>\n",
              "  <tbody>\n",
              "    <tr>\n",
              "      <th>0</th>\n",
              "      <td>2022-10-01</td>\n",
              "      <td>24071</td>\n",
              "      <td>6630</td>\n",
              "      <td>6994</td>\n",
              "      <td>3511</td>\n",
              "      <td>962.0</td>\n",
              "    </tr>\n",
              "    <tr>\n",
              "      <th>1</th>\n",
              "      <td>2022-10-02</td>\n",
              "      <td>23548</td>\n",
              "      <td>6366</td>\n",
              "      <td>6669</td>\n",
              "      <td>3387</td>\n",
              "      <td>941.0</td>\n",
              "    </tr>\n",
              "    <tr>\n",
              "      <th>2</th>\n",
              "      <td>2022-10-03</td>\n",
              "      <td>24572</td>\n",
              "      <td>6936</td>\n",
              "      <td>6899</td>\n",
              "      <td>3654</td>\n",
              "      <td>940.0</td>\n",
              "    </tr>\n",
              "    <tr>\n",
              "      <th>3</th>\n",
              "      <td>2022-10-04</td>\n",
              "      <td>24212</td>\n",
              "      <td>6561</td>\n",
              "      <td>6766</td>\n",
              "      <td>3532</td>\n",
              "      <td>960.0</td>\n",
              "    </tr>\n",
              "    <tr>\n",
              "      <th>4</th>\n",
              "      <td>2022-10-05</td>\n",
              "      <td>23247</td>\n",
              "      <td>6059</td>\n",
              "      <td>6402</td>\n",
              "      <td>3315</td>\n",
              "      <td>923.0</td>\n",
              "    </tr>\n",
              "  </tbody>\n",
              "</table>\n",
              "</div>\n",
              "      <button class=\"colab-df-convert\" onclick=\"convertToInteractive('df-47048c54-2f81-4988-9305-a464cd9163a6')\"\n",
              "              title=\"Convert this dataframe to an interactive table.\"\n",
              "              style=\"display:none;\">\n",
              "        \n",
              "  <svg xmlns=\"http://www.w3.org/2000/svg\" height=\"24px\"viewBox=\"0 0 24 24\"\n",
              "       width=\"24px\">\n",
              "    <path d=\"M0 0h24v24H0V0z\" fill=\"none\"/>\n",
              "    <path d=\"M18.56 5.44l.94 2.06.94-2.06 2.06-.94-2.06-.94-.94-2.06-.94 2.06-2.06.94zm-11 1L8.5 8.5l.94-2.06 2.06-.94-2.06-.94L8.5 2.5l-.94 2.06-2.06.94zm10 10l.94 2.06.94-2.06 2.06-.94-2.06-.94-.94-2.06-.94 2.06-2.06.94z\"/><path d=\"M17.41 7.96l-1.37-1.37c-.4-.4-.92-.59-1.43-.59-.52 0-1.04.2-1.43.59L10.3 9.45l-7.72 7.72c-.78.78-.78 2.05 0 2.83L4 21.41c.39.39.9.59 1.41.59.51 0 1.02-.2 1.41-.59l7.78-7.78 2.81-2.81c.8-.78.8-2.07 0-2.86zM5.41 20L4 18.59l7.72-7.72 1.47 1.35L5.41 20z\"/>\n",
              "  </svg>\n",
              "      </button>\n",
              "      \n",
              "  <style>\n",
              "    .colab-df-container {\n",
              "      display:flex;\n",
              "      flex-wrap:wrap;\n",
              "      gap: 12px;\n",
              "    }\n",
              "\n",
              "    .colab-df-convert {\n",
              "      background-color: #E8F0FE;\n",
              "      border: none;\n",
              "      border-radius: 50%;\n",
              "      cursor: pointer;\n",
              "      display: none;\n",
              "      fill: #1967D2;\n",
              "      height: 32px;\n",
              "      padding: 0 0 0 0;\n",
              "      width: 32px;\n",
              "    }\n",
              "\n",
              "    .colab-df-convert:hover {\n",
              "      background-color: #E2EBFA;\n",
              "      box-shadow: 0px 1px 2px rgba(60, 64, 67, 0.3), 0px 1px 3px 1px rgba(60, 64, 67, 0.15);\n",
              "      fill: #174EA6;\n",
              "    }\n",
              "\n",
              "    [theme=dark] .colab-df-convert {\n",
              "      background-color: #3B4455;\n",
              "      fill: #D2E3FC;\n",
              "    }\n",
              "\n",
              "    [theme=dark] .colab-df-convert:hover {\n",
              "      background-color: #434B5C;\n",
              "      box-shadow: 0px 1px 3px 1px rgba(0, 0, 0, 0.15);\n",
              "      filter: drop-shadow(0px 1px 2px rgba(0, 0, 0, 0.3));\n",
              "      fill: #FFFFFF;\n",
              "    }\n",
              "  </style>\n",
              "\n",
              "      <script>\n",
              "        const buttonEl =\n",
              "          document.querySelector('#df-47048c54-2f81-4988-9305-a464cd9163a6 button.colab-df-convert');\n",
              "        buttonEl.style.display =\n",
              "          google.colab.kernel.accessAllowed ? 'block' : 'none';\n",
              "\n",
              "        async function convertToInteractive(key) {\n",
              "          const element = document.querySelector('#df-47048c54-2f81-4988-9305-a464cd9163a6');\n",
              "          const dataTable =\n",
              "            await google.colab.kernel.invokeFunction('convertToInteractive',\n",
              "                                                     [key], {});\n",
              "          if (!dataTable) return;\n",
              "\n",
              "          const docLinkHtml = 'Like what you see? Visit the ' +\n",
              "            '<a target=\"_blank\" href=https://colab.research.google.com/notebooks/data_table.ipynb>data table notebook</a>'\n",
              "            + ' to learn more about interactive tables.';\n",
              "          element.innerHTML = '';\n",
              "          dataTable['output_type'] = 'display_data';\n",
              "          await google.colab.output.renderOutput(dataTable, element);\n",
              "          const docLink = document.createElement('div');\n",
              "          docLink.innerHTML = docLinkHtml;\n",
              "          element.appendChild(docLink);\n",
              "        }\n",
              "      </script>\n",
              "    </div>\n",
              "  </div>\n",
              "  "
            ]
          },
          "metadata": {},
          "execution_count": 18
        }
      ]
    },
    {
      "cell_type": "code",
      "source": [
        "sikka_numbers.tail()"
      ],
      "metadata": {
        "colab": {
          "base_uri": "https://localhost:8080/",
          "height": 206
        },
        "id": "gzZGCRzz1ary",
        "outputId": "a9082f92-2770-4806-ce65-1902fd03992d"
      },
      "execution_count": null,
      "outputs": [
        {
          "output_type": "execute_result",
          "data": {
            "text/plain": [
              "          Date    DAU  Installs  Uninstalls  Signups  Referrals\n",
              "41  2022-11-11  13826      4274        4512     2047        NaN\n",
              "42  2022-11-12  13464      4660        4856     2066        NaN\n",
              "43  2022-11-13  13415      4416        4749     2147        NaN\n",
              "44  2022-11-14  13873      4097        4305     2065        NaN\n",
              "45  2022-11-15  14459      4890        4593     2707        NaN"
            ],
            "text/html": [
              "\n",
              "  <div id=\"df-6856e3c8-40db-4648-adde-6776bc48e136\">\n",
              "    <div class=\"colab-df-container\">\n",
              "      <div>\n",
              "<style scoped>\n",
              "    .dataframe tbody tr th:only-of-type {\n",
              "        vertical-align: middle;\n",
              "    }\n",
              "\n",
              "    .dataframe tbody tr th {\n",
              "        vertical-align: top;\n",
              "    }\n",
              "\n",
              "    .dataframe thead th {\n",
              "        text-align: right;\n",
              "    }\n",
              "</style>\n",
              "<table border=\"1\" class=\"dataframe\">\n",
              "  <thead>\n",
              "    <tr style=\"text-align: right;\">\n",
              "      <th></th>\n",
              "      <th>Date</th>\n",
              "      <th>DAU</th>\n",
              "      <th>Installs</th>\n",
              "      <th>Uninstalls</th>\n",
              "      <th>Signups</th>\n",
              "      <th>Referrals</th>\n",
              "    </tr>\n",
              "  </thead>\n",
              "  <tbody>\n",
              "    <tr>\n",
              "      <th>41</th>\n",
              "      <td>2022-11-11</td>\n",
              "      <td>13826</td>\n",
              "      <td>4274</td>\n",
              "      <td>4512</td>\n",
              "      <td>2047</td>\n",
              "      <td>NaN</td>\n",
              "    </tr>\n",
              "    <tr>\n",
              "      <th>42</th>\n",
              "      <td>2022-11-12</td>\n",
              "      <td>13464</td>\n",
              "      <td>4660</td>\n",
              "      <td>4856</td>\n",
              "      <td>2066</td>\n",
              "      <td>NaN</td>\n",
              "    </tr>\n",
              "    <tr>\n",
              "      <th>43</th>\n",
              "      <td>2022-11-13</td>\n",
              "      <td>13415</td>\n",
              "      <td>4416</td>\n",
              "      <td>4749</td>\n",
              "      <td>2147</td>\n",
              "      <td>NaN</td>\n",
              "    </tr>\n",
              "    <tr>\n",
              "      <th>44</th>\n",
              "      <td>2022-11-14</td>\n",
              "      <td>13873</td>\n",
              "      <td>4097</td>\n",
              "      <td>4305</td>\n",
              "      <td>2065</td>\n",
              "      <td>NaN</td>\n",
              "    </tr>\n",
              "    <tr>\n",
              "      <th>45</th>\n",
              "      <td>2022-11-15</td>\n",
              "      <td>14459</td>\n",
              "      <td>4890</td>\n",
              "      <td>4593</td>\n",
              "      <td>2707</td>\n",
              "      <td>NaN</td>\n",
              "    </tr>\n",
              "  </tbody>\n",
              "</table>\n",
              "</div>\n",
              "      <button class=\"colab-df-convert\" onclick=\"convertToInteractive('df-6856e3c8-40db-4648-adde-6776bc48e136')\"\n",
              "              title=\"Convert this dataframe to an interactive table.\"\n",
              "              style=\"display:none;\">\n",
              "        \n",
              "  <svg xmlns=\"http://www.w3.org/2000/svg\" height=\"24px\"viewBox=\"0 0 24 24\"\n",
              "       width=\"24px\">\n",
              "    <path d=\"M0 0h24v24H0V0z\" fill=\"none\"/>\n",
              "    <path d=\"M18.56 5.44l.94 2.06.94-2.06 2.06-.94-2.06-.94-.94-2.06-.94 2.06-2.06.94zm-11 1L8.5 8.5l.94-2.06 2.06-.94-2.06-.94L8.5 2.5l-.94 2.06-2.06.94zm10 10l.94 2.06.94-2.06 2.06-.94-2.06-.94-.94-2.06-.94 2.06-2.06.94z\"/><path d=\"M17.41 7.96l-1.37-1.37c-.4-.4-.92-.59-1.43-.59-.52 0-1.04.2-1.43.59L10.3 9.45l-7.72 7.72c-.78.78-.78 2.05 0 2.83L4 21.41c.39.39.9.59 1.41.59.51 0 1.02-.2 1.41-.59l7.78-7.78 2.81-2.81c.8-.78.8-2.07 0-2.86zM5.41 20L4 18.59l7.72-7.72 1.47 1.35L5.41 20z\"/>\n",
              "  </svg>\n",
              "      </button>\n",
              "      \n",
              "  <style>\n",
              "    .colab-df-container {\n",
              "      display:flex;\n",
              "      flex-wrap:wrap;\n",
              "      gap: 12px;\n",
              "    }\n",
              "\n",
              "    .colab-df-convert {\n",
              "      background-color: #E8F0FE;\n",
              "      border: none;\n",
              "      border-radius: 50%;\n",
              "      cursor: pointer;\n",
              "      display: none;\n",
              "      fill: #1967D2;\n",
              "      height: 32px;\n",
              "      padding: 0 0 0 0;\n",
              "      width: 32px;\n",
              "    }\n",
              "\n",
              "    .colab-df-convert:hover {\n",
              "      background-color: #E2EBFA;\n",
              "      box-shadow: 0px 1px 2px rgba(60, 64, 67, 0.3), 0px 1px 3px 1px rgba(60, 64, 67, 0.15);\n",
              "      fill: #174EA6;\n",
              "    }\n",
              "\n",
              "    [theme=dark] .colab-df-convert {\n",
              "      background-color: #3B4455;\n",
              "      fill: #D2E3FC;\n",
              "    }\n",
              "\n",
              "    [theme=dark] .colab-df-convert:hover {\n",
              "      background-color: #434B5C;\n",
              "      box-shadow: 0px 1px 3px 1px rgba(0, 0, 0, 0.15);\n",
              "      filter: drop-shadow(0px 1px 2px rgba(0, 0, 0, 0.3));\n",
              "      fill: #FFFFFF;\n",
              "    }\n",
              "  </style>\n",
              "\n",
              "      <script>\n",
              "        const buttonEl =\n",
              "          document.querySelector('#df-6856e3c8-40db-4648-adde-6776bc48e136 button.colab-df-convert');\n",
              "        buttonEl.style.display =\n",
              "          google.colab.kernel.accessAllowed ? 'block' : 'none';\n",
              "\n",
              "        async function convertToInteractive(key) {\n",
              "          const element = document.querySelector('#df-6856e3c8-40db-4648-adde-6776bc48e136');\n",
              "          const dataTable =\n",
              "            await google.colab.kernel.invokeFunction('convertToInteractive',\n",
              "                                                     [key], {});\n",
              "          if (!dataTable) return;\n",
              "\n",
              "          const docLinkHtml = 'Like what you see? Visit the ' +\n",
              "            '<a target=\"_blank\" href=https://colab.research.google.com/notebooks/data_table.ipynb>data table notebook</a>'\n",
              "            + ' to learn more about interactive tables.';\n",
              "          element.innerHTML = '';\n",
              "          dataTable['output_type'] = 'display_data';\n",
              "          await google.colab.output.renderOutput(dataTable, element);\n",
              "          const docLink = document.createElement('div');\n",
              "          docLink.innerHTML = docLinkHtml;\n",
              "          element.appendChild(docLink);\n",
              "        }\n",
              "      </script>\n",
              "    </div>\n",
              "  </div>\n",
              "  "
            ]
          },
          "metadata": {},
          "execution_count": 17
        }
      ]
    },
    {
      "cell_type": "code",
      "source": [
        "from sklearn.linear_model import LinearRegression\n",
        "\n",
        "\n",
        "\n",
        "# Filter the data to include only the relevant columns and October data\n",
        "sikka_october = sikka_numbers[['Date', 'DAU', 'Referrals']].loc[sikka_numbers['Date'].str.contains('2022-10')]\n",
        "\n",
        "# Create a linear regression model\n",
        "model = LinearRegression()\n",
        "model.fit(sikka_october[['DAU']], sikka_october[['Referrals']])\n",
        "\n",
        "# Use the model to predict the number of referrals for the first 15 days of November\n",
        "sikka_november = sikka_numbers[['Date', 'DAU']].loc[sikka_numbers['Date'].str.contains('2022-11')]\n",
        "sikka_november['predicted_referrals'] = model.predict(sikka_november[['DAU']])\n",
        "predicted_referrals = sikka_november['predicted_referrals'].sum()\n",
        "\n",
        "print(f\"Predicted number of referrals for the first 15 days of November: {predicted_referrals}\")"
      ],
      "metadata": {
        "colab": {
          "base_uri": "https://localhost:8080/"
        },
        "id": "tYxnzNJf0sRK",
        "outputId": "a06966be-32b2-4eb3-b515-1e268d1c8283"
      },
      "execution_count": null,
      "outputs": [
        {
          "output_type": "stream",
          "name": "stdout",
          "text": [
            "Predicted number of referrals for the first 15 days of November: 6155.592117238766\n"
          ]
        }
      ]
    },
    {
      "cell_type": "markdown",
      "source": [
        "# **question 4**"
      ],
      "metadata": {
        "id": "CXYAcRo603Tl"
      }
    },
    {
      "cell_type": "code",
      "source": [
        "path6='/content/drive/MyDrive/Greedy/Copy of Q4_ADX_Sample_data.csv'\n",
        "adx_data = pd.read_csv(path6)"
      ],
      "metadata": {
        "id": "Rtz5cTK-4RXu"
      },
      "execution_count": null,
      "outputs": []
    },
    {
      "cell_type": "code",
      "source": [
        "adx_data.head()"
      ],
      "metadata": {
        "colab": {
          "base_uri": "https://localhost:8080/",
          "height": 206
        },
        "id": "AhjCjqNZ4guA",
        "outputId": "3eb6b2af-cc02-4b9f-c64e-8574b02ffac2"
      },
      "execution_count": null,
      "outputs": [
        {
          "output_type": "execute_result",
          "data": {
            "text/plain": [
              "         date  pub_id    app_id  ad_unit_code   country  requests  \\\n",
              "0  2022-10-20    1987  16243270   22832846443  Tanzania        36   \n",
              "1  2022-10-20    1987  16243270   22832846593  Tanzania        24   \n",
              "2  2022-10-20    1987  16243270   22832846443  Thailand       949   \n",
              "3  2022-10-20    1987  16243270   22832846593  Thailand      1006   \n",
              "4  2022-10-20    1987  16243270   22832827729  Thailand       373   \n",
              "\n",
              "   ae_responses  ae_impressions  ae_clicks  ae_revenue  \n",
              "0            36              34          0    0.035738  \n",
              "1            24              23          0    0.064384  \n",
              "2           949             876         20    4.943878  \n",
              "3           907             688        134   24.226836  \n",
              "4           287             156         20    2.759392  "
            ],
            "text/html": [
              "\n",
              "  <div id=\"df-95eaccfe-4098-443b-bdb8-2155f28ed3f3\">\n",
              "    <div class=\"colab-df-container\">\n",
              "      <div>\n",
              "<style scoped>\n",
              "    .dataframe tbody tr th:only-of-type {\n",
              "        vertical-align: middle;\n",
              "    }\n",
              "\n",
              "    .dataframe tbody tr th {\n",
              "        vertical-align: top;\n",
              "    }\n",
              "\n",
              "    .dataframe thead th {\n",
              "        text-align: right;\n",
              "    }\n",
              "</style>\n",
              "<table border=\"1\" class=\"dataframe\">\n",
              "  <thead>\n",
              "    <tr style=\"text-align: right;\">\n",
              "      <th></th>\n",
              "      <th>date</th>\n",
              "      <th>pub_id</th>\n",
              "      <th>app_id</th>\n",
              "      <th>ad_unit_code</th>\n",
              "      <th>country</th>\n",
              "      <th>requests</th>\n",
              "      <th>ae_responses</th>\n",
              "      <th>ae_impressions</th>\n",
              "      <th>ae_clicks</th>\n",
              "      <th>ae_revenue</th>\n",
              "    </tr>\n",
              "  </thead>\n",
              "  <tbody>\n",
              "    <tr>\n",
              "      <th>0</th>\n",
              "      <td>2022-10-20</td>\n",
              "      <td>1987</td>\n",
              "      <td>16243270</td>\n",
              "      <td>22832846443</td>\n",
              "      <td>Tanzania</td>\n",
              "      <td>36</td>\n",
              "      <td>36</td>\n",
              "      <td>34</td>\n",
              "      <td>0</td>\n",
              "      <td>0.035738</td>\n",
              "    </tr>\n",
              "    <tr>\n",
              "      <th>1</th>\n",
              "      <td>2022-10-20</td>\n",
              "      <td>1987</td>\n",
              "      <td>16243270</td>\n",
              "      <td>22832846593</td>\n",
              "      <td>Tanzania</td>\n",
              "      <td>24</td>\n",
              "      <td>24</td>\n",
              "      <td>23</td>\n",
              "      <td>0</td>\n",
              "      <td>0.064384</td>\n",
              "    </tr>\n",
              "    <tr>\n",
              "      <th>2</th>\n",
              "      <td>2022-10-20</td>\n",
              "      <td>1987</td>\n",
              "      <td>16243270</td>\n",
              "      <td>22832846443</td>\n",
              "      <td>Thailand</td>\n",
              "      <td>949</td>\n",
              "      <td>949</td>\n",
              "      <td>876</td>\n",
              "      <td>20</td>\n",
              "      <td>4.943878</td>\n",
              "    </tr>\n",
              "    <tr>\n",
              "      <th>3</th>\n",
              "      <td>2022-10-20</td>\n",
              "      <td>1987</td>\n",
              "      <td>16243270</td>\n",
              "      <td>22832846593</td>\n",
              "      <td>Thailand</td>\n",
              "      <td>1006</td>\n",
              "      <td>907</td>\n",
              "      <td>688</td>\n",
              "      <td>134</td>\n",
              "      <td>24.226836</td>\n",
              "    </tr>\n",
              "    <tr>\n",
              "      <th>4</th>\n",
              "      <td>2022-10-20</td>\n",
              "      <td>1987</td>\n",
              "      <td>16243270</td>\n",
              "      <td>22832827729</td>\n",
              "      <td>Thailand</td>\n",
              "      <td>373</td>\n",
              "      <td>287</td>\n",
              "      <td>156</td>\n",
              "      <td>20</td>\n",
              "      <td>2.759392</td>\n",
              "    </tr>\n",
              "  </tbody>\n",
              "</table>\n",
              "</div>\n",
              "      <button class=\"colab-df-convert\" onclick=\"convertToInteractive('df-95eaccfe-4098-443b-bdb8-2155f28ed3f3')\"\n",
              "              title=\"Convert this dataframe to an interactive table.\"\n",
              "              style=\"display:none;\">\n",
              "        \n",
              "  <svg xmlns=\"http://www.w3.org/2000/svg\" height=\"24px\"viewBox=\"0 0 24 24\"\n",
              "       width=\"24px\">\n",
              "    <path d=\"M0 0h24v24H0V0z\" fill=\"none\"/>\n",
              "    <path d=\"M18.56 5.44l.94 2.06.94-2.06 2.06-.94-2.06-.94-.94-2.06-.94 2.06-2.06.94zm-11 1L8.5 8.5l.94-2.06 2.06-.94-2.06-.94L8.5 2.5l-.94 2.06-2.06.94zm10 10l.94 2.06.94-2.06 2.06-.94-2.06-.94-.94-2.06-.94 2.06-2.06.94z\"/><path d=\"M17.41 7.96l-1.37-1.37c-.4-.4-.92-.59-1.43-.59-.52 0-1.04.2-1.43.59L10.3 9.45l-7.72 7.72c-.78.78-.78 2.05 0 2.83L4 21.41c.39.39.9.59 1.41.59.51 0 1.02-.2 1.41-.59l7.78-7.78 2.81-2.81c.8-.78.8-2.07 0-2.86zM5.41 20L4 18.59l7.72-7.72 1.47 1.35L5.41 20z\"/>\n",
              "  </svg>\n",
              "      </button>\n",
              "      \n",
              "  <style>\n",
              "    .colab-df-container {\n",
              "      display:flex;\n",
              "      flex-wrap:wrap;\n",
              "      gap: 12px;\n",
              "    }\n",
              "\n",
              "    .colab-df-convert {\n",
              "      background-color: #E8F0FE;\n",
              "      border: none;\n",
              "      border-radius: 50%;\n",
              "      cursor: pointer;\n",
              "      display: none;\n",
              "      fill: #1967D2;\n",
              "      height: 32px;\n",
              "      padding: 0 0 0 0;\n",
              "      width: 32px;\n",
              "    }\n",
              "\n",
              "    .colab-df-convert:hover {\n",
              "      background-color: #E2EBFA;\n",
              "      box-shadow: 0px 1px 2px rgba(60, 64, 67, 0.3), 0px 1px 3px 1px rgba(60, 64, 67, 0.15);\n",
              "      fill: #174EA6;\n",
              "    }\n",
              "\n",
              "    [theme=dark] .colab-df-convert {\n",
              "      background-color: #3B4455;\n",
              "      fill: #D2E3FC;\n",
              "    }\n",
              "\n",
              "    [theme=dark] .colab-df-convert:hover {\n",
              "      background-color: #434B5C;\n",
              "      box-shadow: 0px 1px 3px 1px rgba(0, 0, 0, 0.15);\n",
              "      filter: drop-shadow(0px 1px 2px rgba(0, 0, 0, 0.3));\n",
              "      fill: #FFFFFF;\n",
              "    }\n",
              "  </style>\n",
              "\n",
              "      <script>\n",
              "        const buttonEl =\n",
              "          document.querySelector('#df-95eaccfe-4098-443b-bdb8-2155f28ed3f3 button.colab-df-convert');\n",
              "        buttonEl.style.display =\n",
              "          google.colab.kernel.accessAllowed ? 'block' : 'none';\n",
              "\n",
              "        async function convertToInteractive(key) {\n",
              "          const element = document.querySelector('#df-95eaccfe-4098-443b-bdb8-2155f28ed3f3');\n",
              "          const dataTable =\n",
              "            await google.colab.kernel.invokeFunction('convertToInteractive',\n",
              "                                                     [key], {});\n",
              "          if (!dataTable) return;\n",
              "\n",
              "          const docLinkHtml = 'Like what you see? Visit the ' +\n",
              "            '<a target=\"_blank\" href=https://colab.research.google.com/notebooks/data_table.ipynb>data table notebook</a>'\n",
              "            + ' to learn more about interactive tables.';\n",
              "          element.innerHTML = '';\n",
              "          dataTable['output_type'] = 'display_data';\n",
              "          await google.colab.output.renderOutput(dataTable, element);\n",
              "          const docLink = document.createElement('div');\n",
              "          docLink.innerHTML = docLinkHtml;\n",
              "          element.appendChild(docLink);\n",
              "        }\n",
              "      </script>\n",
              "    </div>\n",
              "  </div>\n",
              "  "
            ]
          },
          "metadata": {},
          "execution_count": 51
        }
      ]
    },
    {
      "cell_type": "code",
      "source": [
        "adx_data['show_rate'] = adx_data['ae_impressions'] / adx_data['ae_responses']\n",
        "adx_data['click_rate'] = adx_data['ae_clicks'] / adx_data['ae_impressions']\n",
        "adx_data['revenue_per_impression'] = adx_data['ae_revenue'] / adx_data['ae_impressions']\n",
        "adx_data['revenue_per_request'] = adx_data['ae_revenue'] / adx_data['requests']\n"
      ],
      "metadata": {
        "id": "mn7TglbPRSQr"
      },
      "execution_count": null,
      "outputs": []
    },
    {
      "cell_type": "code",
      "source": [
        "adx_data.head()"
      ],
      "metadata": {
        "colab": {
          "base_uri": "https://localhost:8080/",
          "height": 357
        },
        "id": "L8Poe8C1MiKv",
        "outputId": "b9459c34-7b33-486a-fb6a-b1e645342ae5"
      },
      "execution_count": null,
      "outputs": [
        {
          "output_type": "execute_result",
          "data": {
            "text/plain": [
              "         date  pub_id    app_id  ad_unit_code   country  requests  \\\n",
              "0  2022-10-20    1987  16243270   22832846443  Tanzania        36   \n",
              "1  2022-10-20    1987  16243270   22832846593  Tanzania        24   \n",
              "2  2022-10-20    1987  16243270   22832846443  Thailand       949   \n",
              "3  2022-10-20    1987  16243270   22832846593  Thailand      1006   \n",
              "4  2022-10-20    1987  16243270   22832827729  Thailand       373   \n",
              "\n",
              "   ae_responses  ae_impressions  ae_clicks  ae_revenue  show_rate  click_rate  \\\n",
              "0            36              34          0    0.035738   0.944444    0.000000   \n",
              "1            24              23          0    0.064384   0.958333    0.000000   \n",
              "2           949             876         20    4.943878   0.923077    0.022831   \n",
              "3           907             688        134   24.226836   0.758545    0.194767   \n",
              "4           287             156         20    2.759392   0.543554    0.128205   \n",
              "\n",
              "   revenue_per_impression  revenue_per_request  \n",
              "0                0.001051             0.000993  \n",
              "1                0.002799             0.002683  \n",
              "2                0.005644             0.005210  \n",
              "3                0.035213             0.024082  \n",
              "4                0.017688             0.007398  "
            ],
            "text/html": [
              "\n",
              "  <div id=\"df-f849b7a5-0247-444e-9b1f-86fb797b5a9b\">\n",
              "    <div class=\"colab-df-container\">\n",
              "      <div>\n",
              "<style scoped>\n",
              "    .dataframe tbody tr th:only-of-type {\n",
              "        vertical-align: middle;\n",
              "    }\n",
              "\n",
              "    .dataframe tbody tr th {\n",
              "        vertical-align: top;\n",
              "    }\n",
              "\n",
              "    .dataframe thead th {\n",
              "        text-align: right;\n",
              "    }\n",
              "</style>\n",
              "<table border=\"1\" class=\"dataframe\">\n",
              "  <thead>\n",
              "    <tr style=\"text-align: right;\">\n",
              "      <th></th>\n",
              "      <th>date</th>\n",
              "      <th>pub_id</th>\n",
              "      <th>app_id</th>\n",
              "      <th>ad_unit_code</th>\n",
              "      <th>country</th>\n",
              "      <th>requests</th>\n",
              "      <th>ae_responses</th>\n",
              "      <th>ae_impressions</th>\n",
              "      <th>ae_clicks</th>\n",
              "      <th>ae_revenue</th>\n",
              "      <th>show_rate</th>\n",
              "      <th>click_rate</th>\n",
              "      <th>revenue_per_impression</th>\n",
              "      <th>revenue_per_request</th>\n",
              "    </tr>\n",
              "  </thead>\n",
              "  <tbody>\n",
              "    <tr>\n",
              "      <th>0</th>\n",
              "      <td>2022-10-20</td>\n",
              "      <td>1987</td>\n",
              "      <td>16243270</td>\n",
              "      <td>22832846443</td>\n",
              "      <td>Tanzania</td>\n",
              "      <td>36</td>\n",
              "      <td>36</td>\n",
              "      <td>34</td>\n",
              "      <td>0</td>\n",
              "      <td>0.035738</td>\n",
              "      <td>0.944444</td>\n",
              "      <td>0.000000</td>\n",
              "      <td>0.001051</td>\n",
              "      <td>0.000993</td>\n",
              "    </tr>\n",
              "    <tr>\n",
              "      <th>1</th>\n",
              "      <td>2022-10-20</td>\n",
              "      <td>1987</td>\n",
              "      <td>16243270</td>\n",
              "      <td>22832846593</td>\n",
              "      <td>Tanzania</td>\n",
              "      <td>24</td>\n",
              "      <td>24</td>\n",
              "      <td>23</td>\n",
              "      <td>0</td>\n",
              "      <td>0.064384</td>\n",
              "      <td>0.958333</td>\n",
              "      <td>0.000000</td>\n",
              "      <td>0.002799</td>\n",
              "      <td>0.002683</td>\n",
              "    </tr>\n",
              "    <tr>\n",
              "      <th>2</th>\n",
              "      <td>2022-10-20</td>\n",
              "      <td>1987</td>\n",
              "      <td>16243270</td>\n",
              "      <td>22832846443</td>\n",
              "      <td>Thailand</td>\n",
              "      <td>949</td>\n",
              "      <td>949</td>\n",
              "      <td>876</td>\n",
              "      <td>20</td>\n",
              "      <td>4.943878</td>\n",
              "      <td>0.923077</td>\n",
              "      <td>0.022831</td>\n",
              "      <td>0.005644</td>\n",
              "      <td>0.005210</td>\n",
              "    </tr>\n",
              "    <tr>\n",
              "      <th>3</th>\n",
              "      <td>2022-10-20</td>\n",
              "      <td>1987</td>\n",
              "      <td>16243270</td>\n",
              "      <td>22832846593</td>\n",
              "      <td>Thailand</td>\n",
              "      <td>1006</td>\n",
              "      <td>907</td>\n",
              "      <td>688</td>\n",
              "      <td>134</td>\n",
              "      <td>24.226836</td>\n",
              "      <td>0.758545</td>\n",
              "      <td>0.194767</td>\n",
              "      <td>0.035213</td>\n",
              "      <td>0.024082</td>\n",
              "    </tr>\n",
              "    <tr>\n",
              "      <th>4</th>\n",
              "      <td>2022-10-20</td>\n",
              "      <td>1987</td>\n",
              "      <td>16243270</td>\n",
              "      <td>22832827729</td>\n",
              "      <td>Thailand</td>\n",
              "      <td>373</td>\n",
              "      <td>287</td>\n",
              "      <td>156</td>\n",
              "      <td>20</td>\n",
              "      <td>2.759392</td>\n",
              "      <td>0.543554</td>\n",
              "      <td>0.128205</td>\n",
              "      <td>0.017688</td>\n",
              "      <td>0.007398</td>\n",
              "    </tr>\n",
              "  </tbody>\n",
              "</table>\n",
              "</div>\n",
              "      <button class=\"colab-df-convert\" onclick=\"convertToInteractive('df-f849b7a5-0247-444e-9b1f-86fb797b5a9b')\"\n",
              "              title=\"Convert this dataframe to an interactive table.\"\n",
              "              style=\"display:none;\">\n",
              "        \n",
              "  <svg xmlns=\"http://www.w3.org/2000/svg\" height=\"24px\"viewBox=\"0 0 24 24\"\n",
              "       width=\"24px\">\n",
              "    <path d=\"M0 0h24v24H0V0z\" fill=\"none\"/>\n",
              "    <path d=\"M18.56 5.44l.94 2.06.94-2.06 2.06-.94-2.06-.94-.94-2.06-.94 2.06-2.06.94zm-11 1L8.5 8.5l.94-2.06 2.06-.94-2.06-.94L8.5 2.5l-.94 2.06-2.06.94zm10 10l.94 2.06.94-2.06 2.06-.94-2.06-.94-.94-2.06-.94 2.06-2.06.94z\"/><path d=\"M17.41 7.96l-1.37-1.37c-.4-.4-.92-.59-1.43-.59-.52 0-1.04.2-1.43.59L10.3 9.45l-7.72 7.72c-.78.78-.78 2.05 0 2.83L4 21.41c.39.39.9.59 1.41.59.51 0 1.02-.2 1.41-.59l7.78-7.78 2.81-2.81c.8-.78.8-2.07 0-2.86zM5.41 20L4 18.59l7.72-7.72 1.47 1.35L5.41 20z\"/>\n",
              "  </svg>\n",
              "      </button>\n",
              "      \n",
              "  <style>\n",
              "    .colab-df-container {\n",
              "      display:flex;\n",
              "      flex-wrap:wrap;\n",
              "      gap: 12px;\n",
              "    }\n",
              "\n",
              "    .colab-df-convert {\n",
              "      background-color: #E8F0FE;\n",
              "      border: none;\n",
              "      border-radius: 50%;\n",
              "      cursor: pointer;\n",
              "      display: none;\n",
              "      fill: #1967D2;\n",
              "      height: 32px;\n",
              "      padding: 0 0 0 0;\n",
              "      width: 32px;\n",
              "    }\n",
              "\n",
              "    .colab-df-convert:hover {\n",
              "      background-color: #E2EBFA;\n",
              "      box-shadow: 0px 1px 2px rgba(60, 64, 67, 0.3), 0px 1px 3px 1px rgba(60, 64, 67, 0.15);\n",
              "      fill: #174EA6;\n",
              "    }\n",
              "\n",
              "    [theme=dark] .colab-df-convert {\n",
              "      background-color: #3B4455;\n",
              "      fill: #D2E3FC;\n",
              "    }\n",
              "\n",
              "    [theme=dark] .colab-df-convert:hover {\n",
              "      background-color: #434B5C;\n",
              "      box-shadow: 0px 1px 3px 1px rgba(0, 0, 0, 0.15);\n",
              "      filter: drop-shadow(0px 1px 2px rgba(0, 0, 0, 0.3));\n",
              "      fill: #FFFFFF;\n",
              "    }\n",
              "  </style>\n",
              "\n",
              "      <script>\n",
              "        const buttonEl =\n",
              "          document.querySelector('#df-f849b7a5-0247-444e-9b1f-86fb797b5a9b button.colab-df-convert');\n",
              "        buttonEl.style.display =\n",
              "          google.colab.kernel.accessAllowed ? 'block' : 'none';\n",
              "\n",
              "        async function convertToInteractive(key) {\n",
              "          const element = document.querySelector('#df-f849b7a5-0247-444e-9b1f-86fb797b5a9b');\n",
              "          const dataTable =\n",
              "            await google.colab.kernel.invokeFunction('convertToInteractive',\n",
              "                                                     [key], {});\n",
              "          if (!dataTable) return;\n",
              "\n",
              "          const docLinkHtml = 'Like what you see? Visit the ' +\n",
              "            '<a target=\"_blank\" href=https://colab.research.google.com/notebooks/data_table.ipynb>data table notebook</a>'\n",
              "            + ' to learn more about interactive tables.';\n",
              "          element.innerHTML = '';\n",
              "          dataTable['output_type'] = 'display_data';\n",
              "          await google.colab.output.renderOutput(dataTable, element);\n",
              "          const docLink = document.createElement('div');\n",
              "          docLink.innerHTML = docLinkHtml;\n",
              "          element.appendChild(docLink);\n",
              "        }\n",
              "      </script>\n",
              "    </div>\n",
              "  </div>\n",
              "  "
            ]
          },
          "metadata": {},
          "execution_count": 60
        }
      ]
    },
    {
      "cell_type": "code",
      "source": [
        "import matplotlib.pyplot as plt"
      ],
      "metadata": {
        "id": "XocBOoBZ6MDa"
      },
      "execution_count": null,
      "outputs": []
    },
    {
      "cell_type": "code",
      "source": [
        "\n",
        "# Set the figure size\n",
        "fig_size = (15, 9)\n",
        "\n",
        "# Create box plots for each metric by app ID\n",
        "metrics = ['ae_impressions', 'ae_clicks', 'ae_revenue', 'show_rate', 'click_rate', 'revenue_per_impression', 'revenue_per_request']\n",
        "for metric in metrics:\n",
        "    fig = plt.figure(figsize=fig_size)\n",
        "    adx_data.boxplot(column=metric, by='app_id',figsize=fig_size)\n",
        "    plt.title(metric + ' by App')\n",
        "    plt.ylabel(metric)\n",
        "    plt.xlabel('App ID')\n",
        "    plt.show()"
      ],
      "metadata": {
        "colab": {
          "base_uri": "https://localhost:8080/",
          "height": 1000
        },
        "id": "Pgx7OQGcM_iz",
        "outputId": "f1979c70-49ed-41c5-968c-a364573643cb"
      },
      "execution_count": null,
      "outputs": [
        {
          "output_type": "stream",
          "name": "stderr",
          "text": [
            "/usr/local/lib/python3.8/dist-packages/matplotlib/cbook/__init__.py:1376: VisibleDeprecationWarning: Creating an ndarray from ragged nested sequences (which is a list-or-tuple of lists-or-tuples-or ndarrays with different lengths or shapes) is deprecated. If you meant to do this, you must specify 'dtype=object' when creating the ndarray.\n",
            "  X = np.atleast_1d(X.T if isinstance(X, np.ndarray) else np.asarray(X))\n"
          ]
        },
        {
          "output_type": "display_data",
          "data": {
            "text/plain": [
              "<Figure size 1080x648 with 0 Axes>"
            ]
          },
          "metadata": {}
        },
        {
          "output_type": "display_data",
          "data": {
            "text/plain": [
              "<Figure size 1080x648 with 1 Axes>"
            ],
            "image/png": "[encoded data removed]"
          },
          "metadata": {
            "needs_background": "light"
          }
        },
        {
          "output_type": "stream",
          "name": "stderr",
          "text": [
            "/usr/local/lib/python3.8/dist-packages/matplotlib/cbook/__init__.py:1376: VisibleDeprecationWarning: Creating an ndarray from ragged nested sequences (which is a list-or-tuple of lists-or-tuples-or ndarrays with different lengths or shapes) is deprecated. If you meant to do this, you must specify 'dtype=object' when creating the ndarray.\n",
            "  X = np.atleast_1d(X.T if isinstance(X, np.ndarray) else np.asarray(X))\n"
          ]
        },
        {
          "output_type": "display_data",
          "data": {
            "text/plain": [
              "<Figure size 1080x648 with 0 Axes>"
            ]
          },
          "metadata": {}
        },
        {
          "output_type": "display_data",
          "data": {
            "text/plain": [
              "<Figure size 1080x648 with 1 Axes>"
            ],
            "image/png": "[encoded data removed]"
          },
          "metadata": {
            "needs_background": "light"
          }
        },
        {
          "output_type": "stream",
          "name": "stderr",
          "text": [
            "/usr/local/lib/python3.8/dist-packages/matplotlib/cbook/__init__.py:1376: VisibleDeprecationWarning: Creating an ndarray from ragged nested sequences (which is a list-or-tuple of lists-or-tuples-or ndarrays with different lengths or shapes) is deprecated. If you meant to do this, you must specify 'dtype=object' when creating the ndarray.\n",
            "  X = np.atleast_1d(X.T if isinstance(X, np.ndarray) else np.asarray(X))\n"
          ]
        },
        {
          "output_type": "display_data",
          "data": {
            "text/plain": [
              "<Figure size 1080x648 with 0 Axes>"
            ]
          },
          "metadata": {}
        },
        {
          "output_type": "display_data",
          "data": {
            "text/plain": [
              "<Figure size 1080x648 with 1 Axes>"
            ],
            "image/png": "[encoded data removed]"
          },
          "metadata": {
            "needs_background": "light"
          }
        },
        {
          "output_type": "stream",
          "name": "stderr",
          "text": [
            "/usr/local/lib/python3.8/dist-packages/matplotlib/cbook/__init__.py:1376: VisibleDeprecationWarning: Creating an ndarray from ragged nested sequences (which is a list-or-tuple of lists-or-tuples-or ndarrays with different lengths or shapes) is deprecated. If you meant to do this, you must specify 'dtype=object' when creating the ndarray.\n",
            "  X = np.atleast_1d(X.T if isinstance(X, np.ndarray) else np.asarray(X))\n"
          ]
        },
        {
          "output_type": "display_data",
          "data": {
            "text/plain": [
              "<Figure size 1080x648 with 0 Axes>"
            ]
          },
          "metadata": {}
        },
        {
          "output_type": "display_data",
          "data": {
            "text/plain": [
              "<Figure size 1080x648 with 1 Axes>"
            ],
            "image/png": "[encoded data removed]"
          },
          "metadata": {
            "needs_background": "light"
          }
        },
        {
          "output_type": "stream",
          "name": "stderr",
          "text": [
            "/usr/local/lib/python3.8/dist-packages/matplotlib/cbook/__init__.py:1376: VisibleDeprecationWarning: Creating an ndarray from ragged nested sequences (which is a list-or-tuple of lists-or-tuples-or ndarrays with different lengths or shapes) is deprecated. If you meant to do this, you must specify 'dtype=object' when creating the ndarray.\n",
            "  X = np.atleast_1d(X.T if isinstance(X, np.ndarray) else np.asarray(X))\n"
          ]
        },
        {
          "output_type": "display_data",
          "data": {
            "text/plain": [
              "<Figure size 1080x648 with 0 Axes>"
            ]
          },
          "metadata": {}
        },
        {
          "output_type": "display_data",
          "data": {
            "text/plain": [
              "<Figure size 1080x648 with 1 Axes>"
            ],
            "image/png": "[encoded data removed]"
          },
          "metadata": {
            "needs_background": "light"
          }
        },
        {
          "output_type": "stream",
          "name": "stderr",
          "text": [
            "/usr/local/lib/python3.8/dist-packages/matplotlib/cbook/__init__.py:1376: VisibleDeprecationWarning: Creating an ndarray from ragged nested sequences (which is a list-or-tuple of lists-or-tuples-or ndarrays with different lengths or shapes) is deprecated. If you meant to do this, you must specify 'dtype=object' when creating the ndarray.\n",
            "  X = np.atleast_1d(X.T if isinstance(X, np.ndarray) else np.asarray(X))\n"
          ]
        },
        {
          "output_type": "display_data",
          "data": {
            "text/plain": [
              "<Figure size 1080x648 with 0 Axes>"
            ]
          },
          "metadata": {}
        },
        {
          "output_type": "display_data",
          "data": {
            "text/plain": [
              "<Figure size 1080x648 with 1 Axes>"
            ],
            "image/png": "[encoded data removed]"
          },
          "metadata": {
            "needs_background": "light"
          }
        },
        {
          "output_type": "stream",
          "name": "stderr",
          "text": [
            "/usr/local/lib/python3.8/dist-packages/matplotlib/cbook/__init__.py:1376: VisibleDeprecationWarning: Creating an ndarray from ragged nested sequences (which is a list-or-tuple of lists-or-tuples-or ndarrays with different lengths or shapes) is deprecated. If you meant to do this, you must specify 'dtype=object' when creating the ndarray.\n",
            "  X = np.atleast_1d(X.T if isinstance(X, np.ndarray) else np.asarray(X))\n"
          ]
        },
        {
          "output_type": "display_data",
          "data": {
            "text/plain": [
              "<Figure size 1080x648 with 0 Axes>"
            ]
          },
          "metadata": {}
        },
        {
          "output_type": "display_data",
          "data": {
            "text/plain": [
              "<Figure size 1080x648 with 1 Axes>"
            ],
            "image/png": "[encoded data removed]"
          },
          "metadata": {
            "needs_background": "light"
          }
        }
      ]
    },
    {
      "cell_type": "markdown",
      "source": [
        "**the above graphs shows the anomaly  in the data for any of the apps present\n",
        "in the sample dataset**"
      ],
      "metadata": {
        "id": "ZdlXtuofQL_-"
      }
    },
    {
      "cell_type": "code",
      "source": [],
      "metadata": {
        "id": "XyKa2gyQOxbL"
      },
      "execution_count": null,
      "outputs": []
    }
  ]
}